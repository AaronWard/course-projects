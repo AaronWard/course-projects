{
  "cells": [
    {
      "metadata": {
        "trusted": true
      },
      "cell_type": "code",
      "source": " \nimport urllib.request\nimport json\n\ndata = {\n        \"Inputs\": {\n                \"input1\":\n                [\n                    {\n                            'PatientID': \"1882185\",   \n                            'Pregnancies': \"9\",   \n                            'PlasmaGlucose': \"104\",   \n                            'DiastolicBloodPressure': \"51\",   \n                            'TricepsThickness': \"7\",   \n                            'SerumInsulin': \"24\",   \n                            'BMI': \"27.36983156\",   \n                            'DiabetesPedigree': \"1.350472047\",   \n                            'Age': \"43\",   \n                    }\n                ],\n        },\n    \"GlobalParameters\":  {\n    }\n}\n\nbody = str.encode(json.dumps(data))\n\nurl = 'https://europewest.services.azureml.net/subscriptions/2eaaf79985fe487bbf58b85fe1a8c92c/services/432851079c0947d689d04ba7ba01c70a/execute?api-version=2.0&format=swagger'\napi_key = '4iQpDEIZSFXuRzcavc2IfAh9aGZ2F9WpWV9iuiSZGe0U2IHuov2dvqmlQBoxwlH+DJdTT3zhpKe+Jr+oqzSoxw==' # Replace this with the API key for the web service\nheaders = {'Content-Type':'application/json', 'Authorization':('Bearer '+ api_key)}\n\nreq = urllib.request.Request(url, body, headers)\n\ntry:\n    response = urllib.request.urlopen(req)\n\n    result = response.read()\n    print(result)\nexcept urllib.error.HTTPError as error:\n    print(\"The request failed with status code: \" + str(error.code))\n\n    # Print the headers - they include the requert ID and the timestamp, which are useful for debugging the failure\n    print(error.info())\n    print(json.loads(error.read().decode(\"utf8\", 'ignore')))",
      "execution_count": 1,
      "outputs": [
        {
          "output_type": "stream",
          "text": "b'{\"Results\":{\"output1\":[{\"PatientID\":\"1882185\",\"Physician\":\"Carolos Lamy\",\"DiabetesPrediction\":\"1\",\"Probability\":\"0.99969083070755\"}]}}'\n",
          "name": "stdout"
        }
      ]
    },
    {
      "metadata": {
        "trusted": true
      },
      "cell_type": "code",
      "source": "",
      "execution_count": null,
      "outputs": []
    }
  ],
  "metadata": {
    "kernelspec": {
      "name": "python36",
      "display_name": "Python 3.6",
      "language": "python"
    },
    "language_info": {
      "mimetype": "text/x-python",
      "nbconvert_exporter": "python",
      "name": "python",
      "pygments_lexer": "ipython3",
      "version": "3.6.6",
      "file_extension": ".py",
      "codemirror_mode": {
        "version": 3,
        "name": "ipython"
      }
    }
  },
  "nbformat": 4,
  "nbformat_minor": 2
}