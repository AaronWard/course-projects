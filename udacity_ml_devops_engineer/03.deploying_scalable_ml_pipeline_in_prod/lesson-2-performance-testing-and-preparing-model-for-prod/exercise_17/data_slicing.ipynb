{
 "cells": [
  {
   "cell_type": "markdown",
   "id": "9c33644e-a73a-4ec9-b28f-02ec4d291c11",
   "metadata": {},
   "source": [
    "# Data Slicing"
   ]
  },
  {
   "cell_type": "markdown",
   "id": "d4117ede-adff-44ef-9d0d-d44b5e6238ed",
   "metadata": {},
   "source": [
    "Download the Iris data set from [the UCI Machine Learning Repository.](https://archive.ics.uci.edu/ml/machine-learning-databases/iris/)\n",
    "\n",
    "Load the data using Pandas and then write a function that outputs the descriptive stats for each numeric feature while the categorical variable is held fixed.\n",
    "\n",
    "Run this function for each of the four numeric variables in the Iris data set."
   ]
  },
  {
   "cell_type": "code",
   "execution_count": 2,
   "id": "b94812ea-5528-46c6-bc3e-47ea86e46aaf",
   "metadata": {},
   "outputs": [],
   "source": [
    "col_names = [\"sepal_length\",\n",
    "\"sepal_width\",\n",
    "\"petal_length\",\n",
    "\"petal_width\",\n",
    "\"class\"]"
   ]
  },
  {
   "cell_type": "code",
   "execution_count": 8,
   "id": "f7bd8307-7ec7-4afd-8e77-c5510b2e7c1b",
   "metadata": {},
   "outputs": [
    {
     "name": "stdout",
     "output_type": "stream",
     "text": [
      "Class: Iris-setosa\n",
      "  - sepal_length mean: 5.0041\n",
      "  - sepal_length stddev: 0.3559\n",
      "Class: Iris-versicolor\n",
      "  - sepal_length mean: 5.9360\n",
      "  - sepal_length stddev: 0.5162\n",
      "Class: Iris-virginica\n",
      "  - sepal_length mean: 6.5880\n",
      "  - sepal_length stddev: 0.6359\n",
      "\n",
      "Class: Iris-setosa\n",
      "  - sepal_width mean: 3.4163\n",
      "  - sepal_width stddev: 0.3848\n",
      "Class: Iris-versicolor\n",
      "  - sepal_width mean: 2.7700\n",
      "  - sepal_width stddev: 0.3138\n",
      "Class: Iris-virginica\n",
      "  - sepal_width mean: 2.9740\n",
      "  - sepal_width stddev: 0.3225\n",
      "\n",
      "Class: Iris-setosa\n",
      "  - petal_length mean: 1.4653\n",
      "  - petal_length stddev: 0.1751\n",
      "Class: Iris-versicolor\n",
      "  - petal_length mean: 4.2600\n",
      "  - petal_length stddev: 0.4699\n",
      "Class: Iris-virginica\n",
      "  - petal_length mean: 5.5520\n",
      "  - petal_length stddev: 0.5519\n",
      "\n",
      "Class: Iris-setosa\n",
      "  - petal_width mean: 0.2449\n",
      "  - petal_width stddev: 0.1081\n",
      "Class: Iris-versicolor\n",
      "  - petal_width mean: 1.3260\n",
      "  - petal_width stddev: 0.1978\n",
      "Class: Iris-virginica\n",
      "  - petal_width mean: 2.0260\n",
      "  - petal_width stddev: 0.2747\n",
      "\n"
     ]
    }
   ],
   "source": [
    "import pandas as pd\n",
    "\n",
    "df = pd.read_csv(\"./iris.csv\")\n",
    "df.columns = col_names\n",
    "\n",
    "def slice_iris(df, feature):\n",
    "    \"\"\" \n",
    "    Function for calculating descriptive stats on slices of the Iris dataset.\n",
    "    \"\"\"\n",
    "    \n",
    "    for cls in df[\"class\"].unique():\n",
    "        df_temp = df[df[\"class\"] == cls]\n",
    "        mean = df_temp[feature].mean()\n",
    "        stddev = df_temp[feature].std()\n",
    "        print(f\"Class: {cls}\")\n",
    "        print(f\"  - {feature} mean: {mean:.4f}\")\n",
    "        print(f\"  - {feature} stddev: {stddev:.4f}\")\n",
    "    print()\n",
    "\n",
    "\n",
    "slice_iris(df, \"sepal_length\")\n",
    "slice_iris(df, \"sepal_width\")\n",
    "slice_iris(df, \"petal_length\")\n",
    "slice_iris(df, \"petal_width\")"
   ]
  },
  {
   "cell_type": "code",
   "execution_count": null,
   "id": "763e5198-7893-49fd-a4d5-d309394701d6",
   "metadata": {},
   "outputs": [],
   "source": []
  }
 ],
 "metadata": {
  "kernelspec": {
   "display_name": "Python 3 (ipykernel)",
   "language": "python",
   "name": "python3"
  },
  "language_info": {
   "codemirror_mode": {
    "name": "ipython",
    "version": 3
   },
   "file_extension": ".py",
   "mimetype": "text/x-python",
   "name": "python",
   "nbconvert_exporter": "python",
   "pygments_lexer": "ipython3",
   "version": "3.8.11"
  }
 },
 "nbformat": 4,
 "nbformat_minor": 5
}
